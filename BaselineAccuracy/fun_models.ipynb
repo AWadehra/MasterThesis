{
 "cells": [
  {
   "cell_type": "code",
   "id": "initial_id",
   "metadata": {
    "collapsed": true,
    "ExecuteTime": {
     "end_time": "2025-05-12T14:17:59.155988Z",
     "start_time": "2025-05-12T14:17:40.724832Z"
    }
   },
   "source": [
    "from xml.dom.pulldom import END_ELEMENT\n",
    "\n",
    "from transformer_lens import HookedTransformer\n",
    "import plotly.express as px\n",
    "import torch"
   ],
   "outputs": [
    {
     "name": "stderr",
     "output_type": "stream",
     "text": [
      "E:\\VE\\masterthesis\\Lib\\site-packages\\tqdm\\auto.py:21: TqdmWarning: IProgress not found. Please update jupyter and ipywidgets. See https://ipywidgets.readthedocs.io/en/stable/user_install.html\n",
      "  from .autonotebook import tqdm as notebook_tqdm\n"
     ]
    }
   ],
   "execution_count": 2
  },
  {
   "metadata": {
    "ExecuteTime": {
     "end_time": "2025-05-12T14:18:03.664313Z",
     "start_time": "2025-05-12T14:17:59.170526Z"
    }
   },
   "cell_type": "code",
   "source": "model = HookedTransformer.from_pretrained('gpt-neo-small')",
   "id": "ac583e2dc45d65da",
   "outputs": [
    {
     "name": "stdout",
     "output_type": "stream",
     "text": [
      "Loaded pretrained model gpt-neo-small into HookedTransformer\n"
     ]
    }
   ],
   "execution_count": 3
  },
  {
   "metadata": {
    "ExecuteTime": {
     "end_time": "2025-05-12T14:18:03.805196Z",
     "start_time": "2025-05-12T14:18:03.777609Z"
    }
   },
   "cell_type": "code",
   "source": "subsample  = torch.randperm(model.cfg.d_vocab)[:5000].to(model.cfg.device)",
   "id": "7a085bdae4b4eb44",
   "outputs": [],
   "execution_count": 4
  },
  {
   "metadata": {
    "ExecuteTime": {
     "end_time": "2025-05-12T14:18:04.033604Z",
     "start_time": "2025-05-12T14:18:03.985012Z"
    }
   },
   "cell_type": "code",
   "source": "W_E = model.W_E[subsample]",
   "id": "b9515e04e57f908b",
   "outputs": [],
   "execution_count": 5
  },
  {
   "metadata": {
    "ExecuteTime": {
     "end_time": "2025-05-12T14:18:04.417476Z",
     "start_time": "2025-05-12T14:18:04.327408Z"
    }
   },
   "cell_type": "code",
   "source": "W_E_normed = W_E / W_E.norm(dim=-1, keepdim=True)",
   "id": "1c49d31f64b316ff",
   "outputs": [],
   "execution_count": 6
  },
  {
   "metadata": {
    "ExecuteTime": {
     "end_time": "2025-05-12T14:18:04.768384Z",
     "start_time": "2025-05-12T14:18:04.423492Z"
    }
   },
   "cell_type": "code",
   "source": "cosine_sims = W_E_normed @ W_E_normed.T",
   "id": "a52eefe80177b9a5",
   "outputs": [],
   "execution_count": 7
  },
  {
   "metadata": {
    "ExecuteTime": {
     "end_time": "2025-05-12T14:18:04.812045Z",
     "start_time": "2025-05-12T14:18:04.807545Z"
    }
   },
   "cell_type": "code",
   "source": "#px.histogram(cosine_sims.flatten().detach().cpu().numpy(), title=\"Pairwise cosine sims of embedding\")\n",
   "id": "d73846f091fecd41",
   "outputs": [],
   "execution_count": 8
  },
  {
   "metadata": {
    "ExecuteTime": {
     "end_time": "2025-05-12T14:18:26.610969Z",
     "start_time": "2025-05-12T14:18:26.601306Z"
    }
   },
   "cell_type": "code",
   "source": "W_E_normed",
   "id": "129200317073d10d",
   "outputs": [
    {
     "data": {
      "text/plain": [
       "tensor([[ 0.0326, -0.0612,  0.0228,  ...,  0.0234,  0.0570, -0.0330],\n",
       "        [ 0.0378, -0.0753,  0.0116,  ...,  0.0274,  0.0311, -0.0422],\n",
       "        [ 0.0429, -0.0853,  0.0431,  ...,  0.0159,  0.0439, -0.0520],\n",
       "        ...,\n",
       "        [ 0.0281, -0.0843,  0.0036,  ...,  0.0220,  0.0638, -0.0301],\n",
       "        [ 0.0389, -0.0760,  0.0352,  ...,  0.0172,  0.0623, -0.0314],\n",
       "        [ 0.0421, -0.0483,  0.0007,  ...,  0.0214,  0.0756, -0.0235]],\n",
       "       device='cuda:0', grad_fn=<DivBackward0>)"
      ]
     },
     "execution_count": 11,
     "metadata": {},
     "output_type": "execute_result"
    }
   ],
   "execution_count": 11
  },
  {
   "metadata": {
    "ExecuteTime": {
     "end_time": "2025-05-12T14:18:04.978497Z",
     "start_time": "2025-05-12T14:18:04.975286Z"
    }
   },
   "cell_type": "code",
   "source": "",
   "id": "58f1c92449ff0f99",
   "outputs": [],
   "execution_count": null
  }
 ],
 "metadata": {
  "kernelspec": {
   "display_name": "Python 3",
   "language": "python",
   "name": "python3"
  },
  "language_info": {
   "codemirror_mode": {
    "name": "ipython",
    "version": 2
   },
   "file_extension": ".py",
   "mimetype": "text/x-python",
   "name": "python",
   "nbconvert_exporter": "python",
   "pygments_lexer": "ipython2",
   "version": "2.7.6"
  }
 },
 "nbformat": 4,
 "nbformat_minor": 5
}
